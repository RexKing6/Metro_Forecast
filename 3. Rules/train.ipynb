{
 "cells": [
  {
   "cell_type": "markdown",
   "metadata": {},
   "source": [
    "### 规则法\n",
    "请教了一个虚伪的大佬学姐，才知道时间序列还有一种规则法，给了dropout大佬的简书文章，在这里试一试。\n",
    "\n",
    "* [时间序列规则法快速入门](https://www.jianshu.com/p/31e20f00c26f)"
   ]
  },
  {
   "cell_type": "markdown",
   "metadata": {},
   "source": [
    "#### 调试中位数和平均数"
   ]
  },
  {
   "cell_type": "code",
   "execution_count": null,
   "metadata": {},
   "outputs": [],
   "source": [
    "import numpy as np\n",
    "import pandas as pd\n",
    "from sklearn.metrics import mean_squared_error as mse"
   ]
  },
  {
   "cell_type": "code",
   "execution_count": null,
   "metadata": {},
   "outputs": [],
   "source": [
    "all_feature = np.zeros((81, 2, 24, 144))\n",
    "for istation in range(81):\n",
    "    station_file = pd.read_csv('../Metro_station/station-'+str(istation).zfill(2)+'.csv')\n",
    "    for jinout in range(2):\n",
    "        for kday in range(24):\n",
    "            if jinout == 0:\n",
    "                station_feature = station_file.iloc[144*kday:144*(kday+1), 2].values\n",
    "            else:\n",
    "                station_feature = station_file.iloc[144*kday:144*(kday+1), 6].values\n",
    "            all_feature[istation, jinout, kday, :] = station_feature"
   ]
  },
  {
   "cell_type": "code",
   "execution_count": null,
   "metadata": {},
   "outputs": [],
   "source": [
    "train_feature = all_feature[:, :, :23, :]\n",
    "test_feature = all_feature[:, :, [-1], : ]"
   ]
  },
  {
   "cell_type": "code",
   "execution_count": null,
   "metadata": {},
   "outputs": [],
   "source": [
    "station_feature = train_feature[istation, jinout]\n",
    "station_mean = np.mean(station_feature, axis=1)\n",
    "station_mean = np.expand_dims(station_mean, axis=1)\n",
    "station_feature_normal = station_feature/station_mean\n",
    "station_feature_median = np.median(station_feature_normal, axis=0)\n",
    "station_feature_mean = np.mean(station_feature_normal, axis=0)\n",
    "station_feature_mix = (station_feature_median + station_feature_mean)/2\n",
    "mse(station_feature_mix*station_mean[-1][-1],test_feature[istation, jinout, 0, :])"
   ]
  },
  {
   "cell_type": "code",
   "execution_count": null,
   "metadata": {},
   "outputs": [],
   "source": [
    "loss = 0\n",
    "for istation in range(81):\n",
    "    if istation == 54:\n",
    "        continue\n",
    "    for jinout in range(2):\n",
    "        station_feature = train_feature[istation, jinout]\n",
    "        station_mean = np.mean(station_feature, axis=1)\n",
    "        station_mean = np.expand_dims(station_mean, axis=1)\n",
    "        station_feature_normal = station_feature/station_mean\n",
    "        station_feature_median = np.median(station_feature_normal, axis=0)\n",
    "        station_feature_mean = np.mean(station_feature_normal, axis=0)\n",
    "        station_feature_mix = (station_feature_median*4 + station_feature_mean*6)/10\n",
    "        loss += mse(np.ceil(station_feature_mix*station_mean[-1][-1]),test_feature[istation, jinout, 0, :])\n",
    "print(loss)"
   ]
  },
  {
   "cell_type": "markdown",
   "metadata": {},
   "source": [
    "#### 聚合28日数据"
   ]
  },
  {
   "cell_type": "code",
   "execution_count": null,
   "metadata": {},
   "outputs": [],
   "source": [
    "metro_file = pd.read_csv('../Metro_testA/testA_record_2019-01-'+str(pred_day).zfill(2)+'.csv')\n",
    "metro_file.time = pd.to_datetime(metro_file.time)\n",
    "start_time = '2019-01-'+str(pred_day)+' 00:00:00'\n",
    "start_time = pd.to_datetime(start_time)\n",
    "end_time = '2019-01-'+str(pred_day)+' 00:10:00'\n",
    "end_time = pd.to_datetime(end_time)\n",
    "tenmin_delta = end_time - start_time\n",
    "metro_dfs = []\n",
    "for k in range(81):\n",
    "    metro_dfs.append(pd.DataFrame(np.zeros((144, 11))))\n",
    "for j in range(144):\n",
    "    metro_tmp = metro_file[(metro_file.time>=start_time) & (metro_file.time<end_time)].groupby(['stationID', 'status', 'payType']).count()\n",
    "    for k in range(81):\n",
    "        try:\n",
    "            metro_dfs[k].loc[j, 0] = metro_tmp.loc[k, 1].time.sum()\n",
    "        except:\n",
    "            metro_dfs[k].loc[j, 0] = 0\n",
    "        try:\n",
    "            metro_dfs[k].loc[j, 1] = metro_tmp.loc[k, 1, 0].time\n",
    "        except:\n",
    "            metro_dfs[k].loc[j, 1] = 0\n",
    "        try:\n",
    "            metro_dfs[k].loc[j, 2] = metro_tmp.loc[k, 1, 1].time\n",
    "        except:\n",
    "            metro_dfs[k].loc[j, 2] = 0\n",
    "        try:\n",
    "            metro_dfs[k].loc[j, 3] = metro_tmp.loc[k, 1, 2].time\n",
    "        except:\n",
    "            metro_dfs[k].loc[j, 3] = 0\n",
    "        try:\n",
    "            metro_dfs[k].loc[j, 4] = metro_tmp.loc[k, 1, 3].time\n",
    "        except:\n",
    "            metro_dfs[k].loc[j, 4] = 0\n",
    "        try:\n",
    "            metro_dfs[k].loc[j, 5] = metro_tmp.loc[k, 0].time.sum()\n",
    "        except:\n",
    "            metro_dfs[k].loc[j, 5] = 0\n",
    "        try:\n",
    "            metro_dfs[k].loc[j, 6] = metro_tmp.loc[k, 0, 0].time\n",
    "        except:\n",
    "            metro_dfs[k].loc[j, 6] = 0\n",
    "        try:\n",
    "            metro_dfs[k].loc[j, 7] = metro_tmp.loc[k, 0, 1].time\n",
    "        except:\n",
    "            metro_dfs[k].loc[j, 7] = 0\n",
    "        try:\n",
    "            metro_dfs[k].loc[j, 8] = metro_tmp.loc[k, 0, 2].time\n",
    "        except:\n",
    "            metro_dfs[k].loc[j, 8] = 0\n",
    "        try:\n",
    "            metro_dfs[k].loc[j, 9] = metro_tmp.loc[k, 0, 3].time\n",
    "        except:\n",
    "            metro_dfs[k].loc[j, 9] = 0\n",
    "        if start_time.weekday()<=4:\n",
    "            metro_dfs[k].loc[j, 10] = 0\n",
    "        else:\n",
    "            metro_dfs[k].loc[j, 10] = 1\n",
    "    start_time = end_time\n",
    "    end_time += tenmin_delta"
   ]
  },
  {
   "cell_type": "code",
   "execution_count": null,
   "metadata": {},
   "outputs": [],
   "source": [
    "for i in range(81):\n",
    "    metro_dfs[i].rename(columns={0:'in_num', 1:'in_paytype_0', 2:'in_paytype_1', 3:'in_paytype_2', 4:'in_paytype_3', \n",
    "                                 5:'out_num', 6:'out_paytype_0', 7:'out_paytype_1', 8:'out_paytype_2', 9:'out_paytype_3',\n",
    "                                 10:'weekend'}, inplace=True)"
   ]
  },
  {
   "cell_type": "code",
   "execution_count": null,
   "metadata": {},
   "outputs": [],
   "source": [
    "eval_features = np.zeros((81, 2, 1, 144))\n",
    "for istation in range(81):\n",
    "    station_feature = metro_dfs[istation]\n",
    "    for jinout in range(2):\n",
    "        if jinout == 0:\n",
    "            eval_features[istation, jinout, 0, :] = station_feature.iloc[:,0]\n",
    "        else:\n",
    "            eval_features[istation, jinout, 0, :] = station_feature.iloc[:,5]"
   ]
  },
  {
   "cell_type": "code",
   "execution_count": null,
   "metadata": {},
   "outputs": [],
   "source": [
    "all_feature = np.concatenate((all_feature, eval_features), axis=2)"
   ]
  },
  {
   "cell_type": "markdown",
   "metadata": {},
   "source": [
    "#### 生成输出"
   ]
  },
  {
   "cell_type": "code",
   "execution_count": null,
   "metadata": {},
   "outputs": [],
   "source": [
    "result = np.zeros((81*144, 2))\n",
    "for istation in range(81):\n",
    "    if istation == 54:\n",
    "        continue\n",
    "    for jinout in range(2):\n",
    "        station_feature = all_feature[istation, jinout]\n",
    "        station_mean = np.mean(station_feature, axis=1)\n",
    "        station_mean = np.expand_dims(station_mean, axis=1)\n",
    "        station_feature_normal = station_feature/station_mean\n",
    "        station_feature_median = np.median(station_feature_normal, axis=0)\n",
    "        station_feature_mean = np.mean(station_feature_normal, axis=0)\n",
    "        station_feature_mix = (station_feature_median*4 + station_feature_mean*6)/10\n",
    "        if jinout == 0:\n",
    "            result[istation*144:(istation+1)*144, 0] = np.ceil(station_feature_mix*station_mean[-1][-1])\n",
    "        else:\n",
    "            result[istation*144:(istation+1)*144, 1] = np.ceil(station_feature_mix*station_mean[-1][-1])"
   ]
  },
  {
   "cell_type": "code",
   "execution_count": null,
   "metadata": {},
   "outputs": [],
   "source": [
    "result = pd.DataFrame(result)\n",
    "result.to_csv('pred_28.csv', index=False)"
   ]
  }
 ],
 "metadata": {
  "kernelspec": {
   "display_name": "Python 3",
   "language": "python",
   "name": "python3"
  },
  "language_info": {
   "codemirror_mode": {
    "name": "ipython",
    "version": 3
   },
   "file_extension": ".py",
   "mimetype": "text/x-python",
   "name": "python",
   "nbconvert_exporter": "python",
   "pygments_lexer": "ipython3",
   "version": "3.6.5"
  }
 },
 "nbformat": 4,
 "nbformat_minor": 2
}
