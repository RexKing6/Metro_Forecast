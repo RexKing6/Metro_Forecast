{
 "cells": [
  {
   "cell_type": "markdown",
   "metadata": {},
   "source": [
    "### 选取特征\n",
    "最初是想直接尝试LSTM的，但是貌似对动态预测太高估了，效果很差。所以索性直接看成普通特征，用sklearn中的各种回归试试效果，在最后还试了一个两层的神经网络，所以这里划分特征是以前一天10分钟为间隔，总共144个时刻的`in_num`, `out_num`和各自的`paytype`。最后在拼接上一个描述这两天是否是工作日的向量，总共886维。标签是预测那一天中144个时刻的`in_num`或者`out_num`。"
   ]
  },
  {
   "cell_type": "code",
   "execution_count": null,
   "metadata": {},
   "outputs": [],
   "source": [
    "import numpy as np\n",
    "import pandas as pd"
   ]
  },
  {
   "cell_type": "code",
   "execution_count": null,
   "metadata": {},
   "outputs": [],
   "source": [
    "all_feature = np.zeros((81, 2, 23, 144 * 6 + 2))\n",
    "all_label = np.zeros((81, 2, 23, 144))\n",
    "all_min_max = {}\n",
    "for istation in range(81):\n",
    "    all_min_max['station-'+str(istation).zfill(2)] = {}\n",
    "    tmp_min_max = {}\n",
    "    station_file = pd.read_csv('./Metro_station/station-'+str(istation).zfill(2)+'.csv')\n",
    "    tmp_min_max['in_num_min'] = station_file.iloc[:,2].min()\n",
    "    tmp_min_max['in_num_max'] = station_file.iloc[:,2].max()\n",
    "    tmp_min_max['in_paytype_0_min'] = station_file.iloc[:,3].min()\n",
    "    tmp_min_max['in_paytype_0_max'] = station_file.iloc[:,3].max()\n",
    "    tmp_min_max['in_paytype_1_min'] = station_file.iloc[:,4].min()\n",
    "    tmp_min_max['in_paytype_1_max'] = station_file.iloc[:,4].max()\n",
    "    tmp_min_max['in_paytype_2_min'] = station_file.iloc[:,5].min()\n",
    "    tmp_min_max['in_paytype_2_max'] = station_file.iloc[:,5].max()\n",
    "    tmp_min_max['in_paytype_3_min'] = station_file.iloc[:,6].min()\n",
    "    tmp_min_max['in_paytype_3_max'] = station_file.iloc[:,6].max()\n",
    "    tmp_min_max['out_num_min'] = station_file.iloc[:,7].min()\n",
    "    tmp_min_max['out_num_max'] = station_file.iloc[:,7].max()\n",
    "    tmp_min_max['out_paytype_0_min'] = station_file.iloc[:,8].min()\n",
    "    tmp_min_max['out_paytype_0_max'] = station_file.iloc[:,8].max()\n",
    "    tmp_min_max['out_paytype_1_min'] = station_file.iloc[:,9].min()\n",
    "    tmp_min_max['out_paytype_1_max'] = station_file.iloc[:,9].max()\n",
    "    tmp_min_max['out_paytype_2_min'] = station_file.iloc[:,10].min()\n",
    "    tmp_min_max['out_paytype_2_max'] = station_file.iloc[:,10].max()\n",
    "    tmp_min_max['out_paytype_3_min'] = station_file.iloc[:,11].min()\n",
    "    tmp_min_max['out_paytype_3_max'] = station_file.iloc[:,11].max()\n",
    "    if istation != 54:\n",
    "        station_file.iloc[:,2:-1] = (station_file.iloc[:,2:-1] - station_file.iloc[:,2:-1].min()) / (station_file.iloc[:,2:-1].max() - station_file.iloc[:,2:-1].min())\n",
    "    for jinout in range(2):\n",
    "        if jinout == 0:\n",
    "            all_min_max['station-'+str(istation).zfill(2)]['in'] = {}\n",
    "            all_min_max['station-'+str(istation).zfill(2)]['in']['label_min'] = tmp_min_max['in_num_min']\n",
    "            all_min_max['station-'+str(istation).zfill(2)]['in']['label_max'] = tmp_min_max['in_num_max']\n",
    "            all_min_max['station-'+str(istation).zfill(2)]['in']['in_num_min'] = tmp_min_max['in_num_min']\n",
    "            all_min_max['station-'+str(istation).zfill(2)]['in']['in_num_max'] = tmp_min_max['in_num_max']\n",
    "            all_min_max['station-'+str(istation).zfill(2)]['in']['out_num_min'] = tmp_min_max['out_num_min']\n",
    "            all_min_max['station-'+str(istation).zfill(2)]['in']['out_num_max'] = tmp_min_max['out_num_max']\n",
    "            all_min_max['station-'+str(istation).zfill(2)]['in']['in_paytype_0_min'] = tmp_min_max['in_paytype_0_min']\n",
    "            all_min_max['station-'+str(istation).zfill(2)]['in']['in_paytype_0_max'] = tmp_min_max['in_paytype_0_max']\n",
    "            all_min_max['station-'+str(istation).zfill(2)]['in']['in_paytype_1_min'] = tmp_min_max['in_paytype_1_min']\n",
    "            all_min_max['station-'+str(istation).zfill(2)]['in']['in_paytype_1_max'] = tmp_min_max['in_paytype_1_max']\n",
    "            all_min_max['station-'+str(istation).zfill(2)]['in']['in_paytype_2_min'] = tmp_min_max['in_paytype_2_min']\n",
    "            all_min_max['station-'+str(istation).zfill(2)]['in']['in_paytype_2_max'] = tmp_min_max['in_paytype_2_max']\n",
    "            all_min_max['station-'+str(istation).zfill(2)]['in']['in_paytype_3_min'] = tmp_min_max['in_paytype_3_min']\n",
    "            all_min_max['station-'+str(istation).zfill(2)]['in']['in_paytype_3_max'] = tmp_min_max['in_paytype_3_max']\n",
    "        else:\n",
    "            all_min_max['station-'+str(istation).zfill(2)]['out'] = {}\n",
    "            all_min_max['station-'+str(istation).zfill(2)]['out']['label_min'] = tmp_min_max['out_num_min']\n",
    "            all_min_max['station-'+str(istation).zfill(2)]['out']['label_max'] = tmp_min_max['out_num_max']\n",
    "            all_min_max['station-'+str(istation).zfill(2)]['out']['in_num_min'] = tmp_min_max['in_num_min']\n",
    "            all_min_max['station-'+str(istation).zfill(2)]['out']['in_num_max'] = tmp_min_max['in_num_max']\n",
    "            all_min_max['station-'+str(istation).zfill(2)]['out']['out_num_min'] = tmp_min_max['out_num_min']\n",
    "            all_min_max['station-'+str(istation).zfill(2)]['out']['out_num_max'] = tmp_min_max['out_num_max']\n",
    "            all_min_max['station-'+str(istation).zfill(2)]['out']['out_paytype_0_min'] = tmp_min_max['out_paytype_0_min']\n",
    "            all_min_max['station-'+str(istation).zfill(2)]['out']['out_paytype_0_max'] = tmp_min_max['out_paytype_0_max']\n",
    "            all_min_max['station-'+str(istation).zfill(2)]['out']['out_paytype_1_min'] = tmp_min_max['out_paytype_1_min']\n",
    "            all_min_max['station-'+str(istation).zfill(2)]['out']['out_paytype_1_max'] = tmp_min_max['out_paytype_1_max']\n",
    "            all_min_max['station-'+str(istation).zfill(2)]['out']['out_paytype_2_min'] = tmp_min_max['out_paytype_2_min']\n",
    "            all_min_max['station-'+str(istation).zfill(2)]['out']['out_paytype_2_max'] = tmp_min_max['out_paytype_2_max']\n",
    "            all_min_max['station-'+str(istation).zfill(2)]['out']['out_paytype_3_min'] = tmp_min_max['out_paytype_3_min']\n",
    "            all_min_max['station-'+str(istation).zfill(2)]['out']['out_paytype_3_max'] = tmp_min_max['out_paytype_3_max']\n",
    "        for kday in range(23):\n",
    "            if jinout == 0:\n",
    "                station_feature = station_file.iloc[144*kday:144*(kday+2), [2,7,3,4,5,6,12]]\n",
    "            else:\n",
    "                station_feature = station_file.iloc[144*kday:144*(kday+2), [2,7,8,9,10,11,12]]\n",
    "            for mseqlen in range(144, 288):\n",
    "                if jinout == 0:\n",
    "                    one_label = station_feature.iloc[144:,0].values\n",
    "                else:\n",
    "                    one_label = station_feature.iloc[144:,1].values\n",
    "                one_feature = np.hstack((station_feature.iloc[:144,:-1].values.reshape(-1), station_feature.iloc[[1,-2], -1]))\n",
    "                all_feature[istation, jinout, kday, :] = one_feature\n",
    "                all_label[istation, jinout, kday, :] = one_label"
   ]
  },
  {
   "cell_type": "markdown",
   "metadata": {},
   "source": [
    "### 划分训练集测试集\n",
    "元旦那天比较特殊，剔除。按照每两天划分作为一个样本，总共有23个样本，其中测试样本根据工作日情况选取为`[22,23]`（都为工作日：00）、`[18,19]`（前一天工作日，后一天不是工作日：01）、`[20,21]`（前一天不是工作日，后一天工作日：10）和`[19,20]`（都不是工作日：11）。"
   ]
  },
  {
   "cell_type": "code",
   "execution_count": null,
   "metadata": {},
   "outputs": [],
   "source": [
    "train_feature = all_feature[:,:,[0,1,2,3,4,5,6,7,8,9,10,11,12,13,14,15,19,21,22],:]\n",
    "train_label = all_label[:,:,[0,1,2,3,4,5,6,7,8,9,10,11,12,13,14,15,19,21,22],:]\n",
    "test_feature = all_feature[:,:,[16,17,18,20],:]\n",
    "test_label = all_label[:,:,[16,17,18,20],:]"
   ]
  },
  {
   "cell_type": "code",
   "execution_count": null,
   "metadata": {},
   "outputs": [],
   "source": [
    "np.save('train_feature.npy', train_feature)\n",
    "np.save('train_label.npy', train_label)\n",
    "np.save('test_feature.npy', test_feature)\n",
    "np.save('test_label.npy', test_label)\n",
    "np.save('all_min_max.npy', all_min_max)"
   ]
  }
 ],
 "metadata": {
  "kernelspec": {
   "display_name": "Python 3",
   "language": "python",
   "name": "python3"
  },
  "language_info": {
   "codemirror_mode": {
    "name": "ipython",
    "version": 3
   },
   "file_extension": ".py",
   "mimetype": "text/x-python",
   "name": "python",
   "nbconvert_exporter": "python",
   "pygments_lexer": "ipython3",
   "version": "3.6.5"
  }
 },
 "nbformat": 4,
 "nbformat_minor": 2
}
