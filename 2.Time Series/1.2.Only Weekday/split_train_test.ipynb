{
 "cells": [
  {
   "cell_type": "markdown",
   "metadata": {},
   "source": [
    "### 划分训练集和测试集\n",
    "之前修改成只用前一个周期相同时刻的值和工作日情况作为特征，但是预测出来发现每个站的第二个高峰都没训练出来，初步估计是因为加入的工作日特征没有发挥作用，索性改成只用工作日进行训练。"
   ]
  },
  {
   "cell_type": "code",
   "execution_count": 1,
   "metadata": {},
   "outputs": [],
   "source": [
    "import numpy as np\n",
    "import pandas as pd"
   ]
  },
  {
   "cell_type": "code",
   "execution_count": 5,
   "metadata": {},
   "outputs": [],
   "source": [
    "weekday = [0, 1, 5, 6, 7, 8, 12, 13, 14, 15, 19, 20, 21, 22]"
   ]
  },
  {
   "cell_type": "code",
   "execution_count": 8,
   "metadata": {},
   "outputs": [],
   "source": [
    "all_feature = np.zeros((81, 2, 144, 14, 6))\n",
    "all_label = np.zeros((81, 2, 144, 14, 1))\n",
    "all_min_max = {}\n",
    "for istation in range(81):\n",
    "    all_min_max['station-'+str(istation).zfill(2)] = {}\n",
    "    tmp_min_max = {}\n",
    "    station_file = pd.read_csv('../../Metro_station/station-'+str(istation).zfill(2)+'.csv')\n",
    "    tmp_min_max['in_num_min'] = station_file.iloc[:,2].min()\n",
    "    tmp_min_max['in_num_max'] = station_file.iloc[:,2].max()\n",
    "    tmp_min_max['in_paytype_0_min'] = station_file.iloc[:,3].min()\n",
    "    tmp_min_max['in_paytype_0_max'] = station_file.iloc[:,3].max()\n",
    "    tmp_min_max['in_paytype_1_min'] = station_file.iloc[:,4].min()\n",
    "    tmp_min_max['in_paytype_1_max'] = station_file.iloc[:,4].max()\n",
    "    tmp_min_max['in_paytype_2_min'] = station_file.iloc[:,5].min()\n",
    "    tmp_min_max['in_paytype_2_max'] = station_file.iloc[:,5].max()\n",
    "    tmp_min_max['in_paytype_3_min'] = station_file.iloc[:,6].min()\n",
    "    tmp_min_max['in_paytype_3_max'] = station_file.iloc[:,6].max()\n",
    "    tmp_min_max['out_num_min'] = station_file.iloc[:,7].min()\n",
    "    tmp_min_max['out_num_max'] = station_file.iloc[:,7].max()\n",
    "    tmp_min_max['out_paytype_0_min'] = station_file.iloc[:,8].min()\n",
    "    tmp_min_max['out_paytype_0_max'] = station_file.iloc[:,8].max()\n",
    "    tmp_min_max['out_paytype_1_min'] = station_file.iloc[:,9].min()\n",
    "    tmp_min_max['out_paytype_1_max'] = station_file.iloc[:,9].max()\n",
    "    tmp_min_max['out_paytype_2_min'] = station_file.iloc[:,10].min()\n",
    "    tmp_min_max['out_paytype_2_max'] = station_file.iloc[:,10].max()\n",
    "    tmp_min_max['out_paytype_3_min'] = station_file.iloc[:,11].min()\n",
    "    tmp_min_max['out_paytype_3_max'] = station_file.iloc[:,11].max()\n",
    "    if istation != 54:\n",
    "        station_file.iloc[:,2:-1] = (station_file.iloc[:,2:-1] - station_file.iloc[:,2:-1].min()) / (station_file.iloc[:,2:-1].max() - station_file.iloc[:,2:-1].min())\n",
    "    for jinout in range(2):\n",
    "        if jinout == 0:\n",
    "            all_min_max['station-'+str(istation).zfill(2)]['in'] = {}\n",
    "            all_min_max['station-'+str(istation).zfill(2)]['in']['label_min'] = tmp_min_max['in_num_min']\n",
    "            all_min_max['station-'+str(istation).zfill(2)]['in']['label_max'] = tmp_min_max['in_num_max']\n",
    "            all_min_max['station-'+str(istation).zfill(2)]['in']['in_num_min'] = tmp_min_max['in_num_min']\n",
    "            all_min_max['station-'+str(istation).zfill(2)]['in']['in_num_max'] = tmp_min_max['in_num_max']\n",
    "            all_min_max['station-'+str(istation).zfill(2)]['in']['out_num_min'] = tmp_min_max['out_num_min']\n",
    "            all_min_max['station-'+str(istation).zfill(2)]['in']['out_num_max'] = tmp_min_max['out_num_max']\n",
    "            all_min_max['station-'+str(istation).zfill(2)]['in']['in_paytype_0_min'] = tmp_min_max['in_paytype_0_min']\n",
    "            all_min_max['station-'+str(istation).zfill(2)]['in']['in_paytype_0_max'] = tmp_min_max['in_paytype_0_max']\n",
    "            all_min_max['station-'+str(istation).zfill(2)]['in']['in_paytype_1_min'] = tmp_min_max['in_paytype_1_min']\n",
    "            all_min_max['station-'+str(istation).zfill(2)]['in']['in_paytype_1_max'] = tmp_min_max['in_paytype_1_max']\n",
    "            all_min_max['station-'+str(istation).zfill(2)]['in']['in_paytype_2_min'] = tmp_min_max['in_paytype_2_min']\n",
    "            all_min_max['station-'+str(istation).zfill(2)]['in']['in_paytype_2_max'] = tmp_min_max['in_paytype_2_max']\n",
    "            all_min_max['station-'+str(istation).zfill(2)]['in']['in_paytype_3_min'] = tmp_min_max['in_paytype_3_min']\n",
    "            all_min_max['station-'+str(istation).zfill(2)]['in']['in_paytype_3_max'] = tmp_min_max['in_paytype_3_max']\n",
    "        else:\n",
    "            all_min_max['station-'+str(istation).zfill(2)]['out'] = {}\n",
    "            all_min_max['station-'+str(istation).zfill(2)]['out']['label_min'] = tmp_min_max['out_num_min']\n",
    "            all_min_max['station-'+str(istation).zfill(2)]['out']['label_max'] = tmp_min_max['out_num_max']\n",
    "            all_min_max['station-'+str(istation).zfill(2)]['out']['in_num_min'] = tmp_min_max['in_num_min']\n",
    "            all_min_max['station-'+str(istation).zfill(2)]['out']['in_num_max'] = tmp_min_max['in_num_max']\n",
    "            all_min_max['station-'+str(istation).zfill(2)]['out']['out_num_min'] = tmp_min_max['out_num_min']\n",
    "            all_min_max['station-'+str(istation).zfill(2)]['out']['out_num_max'] = tmp_min_max['out_num_max']\n",
    "            all_min_max['station-'+str(istation).zfill(2)]['out']['out_paytype_0_min'] = tmp_min_max['out_paytype_0_min']\n",
    "            all_min_max['station-'+str(istation).zfill(2)]['out']['out_paytype_0_max'] = tmp_min_max['out_paytype_0_max']\n",
    "            all_min_max['station-'+str(istation).zfill(2)]['out']['out_paytype_1_min'] = tmp_min_max['out_paytype_1_min']\n",
    "            all_min_max['station-'+str(istation).zfill(2)]['out']['out_paytype_1_max'] = tmp_min_max['out_paytype_1_max']\n",
    "            all_min_max['station-'+str(istation).zfill(2)]['out']['out_paytype_2_min'] = tmp_min_max['out_paytype_2_min']\n",
    "            all_min_max['station-'+str(istation).zfill(2)]['out']['out_paytype_2_max'] = tmp_min_max['out_paytype_2_max']\n",
    "            all_min_max['station-'+str(istation).zfill(2)]['out']['out_paytype_3_min'] = tmp_min_max['out_paytype_3_min']\n",
    "            all_min_max['station-'+str(istation).zfill(2)]['out']['out_paytype_3_max'] = tmp_min_max['out_paytype_3_max']\n",
    "        for k, kday in enumerate(weekday):\n",
    "            if jinout == 0:\n",
    "                station_feature = station_file.iloc[144*kday:144*(kday+2), [2,7,3,4,5,6]]\n",
    "            else:\n",
    "                station_feature = station_file.iloc[144*kday:144*(kday+2), [2,7,8,9,10,11]]\n",
    "            for mseqlen in range(144, 288):\n",
    "                if jinout == 0:\n",
    "                    one_label = station_feature.iloc[mseqlen, 0]\n",
    "                else:\n",
    "                    one_label = station_feature.iloc[mseqlen, 1]\n",
    "                T_feature = station_feature.iloc[mseqlen-144, :].values\n",
    "                one_feature = T_feature.copy()\n",
    "                all_feature[istation, jinout, mseqlen-144, k, :] = one_feature\n",
    "                all_label[istation, jinout, mseqlen-144, k, 0] = one_label"
   ]
  },
  {
   "cell_type": "markdown",
   "metadata": {},
   "source": [
    "取`[9, 10]`和`[17, 18]`这两天作为测试集。"
   ]
  },
  {
   "cell_type": "code",
   "execution_count": 9,
   "metadata": {},
   "outputs": [],
   "source": [
    "train_feature = all_feature[:,:,:,[0,1,2,3,5,6,7,8,10,11,12,13],:]\n",
    "train_label = all_label[:,:,:,[0,1,2,3,5,6,7,8,10,11,12,13],:]\n",
    "test_feature = all_feature[:,:,:,[4, 9],:]\n",
    "test_label = all_label[:,:,:,[4, 9],:]"
   ]
  },
  {
   "cell_type": "code",
   "execution_count": 10,
   "metadata": {},
   "outputs": [],
   "source": [
    "np.save('train_feature.npy', train_feature)\n",
    "np.save('train_label.npy', train_label)\n",
    "np.save('test_feature.npy', test_feature)\n",
    "np.save('test_label.npy', test_label)\n",
    "np.save('all_min_max.npy', all_min_max)"
   ]
  }
 ],
 "metadata": {
  "kernelspec": {
   "display_name": "Python 3",
   "language": "python",
   "name": "python3"
  },
  "language_info": {
   "codemirror_mode": {
    "name": "ipython",
    "version": 3
   },
   "file_extension": ".py",
   "mimetype": "text/x-python",
   "name": "python",
   "nbconvert_exporter": "python",
   "pygments_lexer": "ipython3",
   "version": "3.6.5"
  }
 },
 "nbformat": 4,
 "nbformat_minor": 2
}
